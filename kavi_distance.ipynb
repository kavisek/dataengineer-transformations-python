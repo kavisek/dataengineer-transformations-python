{
 "cells": [
  {
   "cell_type": "code",
   "execution_count": 5,
   "id": "3f747a09-8d85-4393-8b1c-39b68de79764",
   "metadata": {},
   "outputs": [
    {
     "name": "stderr",
     "output_type": "stream",
     "text": [
      "UsageError: Line magic function `%tbimport` not found.\n",
      "WARNING: An illegal reflective access operation has occurred\n",
      "WARNING: Illegal reflective access by org.apache.spark.unsafe.Platform (file:/root/.cache/pypoetry/virtualenvs/data-transformations-NkKf-v7k-py3.9/lib/python3.9/site-packages/pyspark/jars/spark-unsafe_2.12-3.1.2.jar) to constructor java.nio.DirectByteBuffer(long,int)\n",
      "WARNING: Please consider reporting this to the maintainers of org.apache.spark.unsafe.Platform\n",
      "WARNING: Use --illegal-access=warn to enable warnings of further illegal reflective access operations\n",
      "WARNING: All illegal access operations will be denied in a future release\n",
      "22/04/26 16:19:41 WARN NativeCodeLoader: Unable to load native-hadoop library for your platform... using builtin-java classes where applicable\n",
      "Using Spark's default log4j profile: org/apache/spark/log4j-defaults.properties\n",
      "Setting default log level to \"WARN\".\n",
      "To adjust logging level use sc.setLogLevel(newLevel). For SparkR, use setLogLevel(newLevel).\n"
     ]
    }
   ],
   "source": [
    "%tb\n",
    "import logging\n",
    "\n",
    "import sys\n",
    "from pyspark.sql import SparkSession\n",
    "\n",
    "from data_transformations.citibike import distance_transformer\n",
    "\n",
    "LOG_FILENAME = 'project.log'\n",
    "APP_NAME = \"Citibike Pipeline: Distance Calculation\"\n",
    "\n",
    "if __name__ == '__main__':\n",
    "    logging.basicConfig(filename=LOG_FILENAME, level=logging.INFO)\n",
    "    arguments = sys.argv\n",
    "\n",
    "    # if len(arguments) != 3:\n",
    "    #     logging.warning(\"Dataset file path and output path not specified!\")\n",
    "    #     sys.exit(1)\n",
    "\n",
    "    input_dataset_path = \"./resources/citibike/citibike.csv\"\n",
    "    output_path =  \"./output\"\n",
    "\n",
    "    spark = SparkSession.builder.appName(APP_NAME).getOrCreate()\n",
    "    logging.info(\"Application Initialized: \" + spark.sparkContext.appName)\n",
    "    # distance_transformer.run(spark, dataset_path, output_path)\n",
    "    # logging.info(\"Application Done: \" + spark.sparkContext.appName)\n",
    "\n",
    "    # spark.stop()\n"
   ]
  },
  {
   "cell_type": "code",
   "execution_count": 7,
   "id": "67e9e2d9-59da-4897-b291-ac6f570862db",
   "metadata": {},
   "outputs": [
    {
     "name": "stdout",
     "output_type": "stream",
     "text": [
      "root\n",
      " |-- tripduration: string (nullable = true)\n",
      " |-- starttime: string (nullable = true)\n",
      " |-- stoptime: string (nullable = true)\n",
      " |-- start station id: string (nullable = true)\n",
      " |-- start station name: string (nullable = true)\n",
      " |-- start station latitude: string (nullable = true)\n",
      " |-- start station longitude: string (nullable = true)\n",
      " |-- end station id: string (nullable = true)\n",
      " |-- end station name: string (nullable = true)\n",
      " |-- end station latitude: string (nullable = true)\n",
      " |-- end station longitude: string (nullable = true)\n",
      " |-- bikeid: string (nullable = true)\n",
      " |-- usertype: string (nullable = true)\n",
      " |-- birth year: string (nullable = true)\n",
      " |-- gender: string (nullable = true)\n",
      "\n"
     ]
    }
   ],
   "source": [
    "# Run\n",
    "input_dataset = spark.read.option('header', True).csv(input_dataset_path)\n",
    "input_dataset.printSchema()"
   ]
  },
  {
   "cell_type": "code",
   "execution_count": 12,
   "id": "f4c885e5",
   "metadata": {},
   "outputs": [
    {
     "data": {
      "text/plain": [
       "3600"
      ]
     },
     "execution_count": 12,
     "metadata": {},
     "output_type": "execute_result"
    }
   ],
   "source": [
    "binput_dataset.count()"
   ]
  },
  {
   "cell_type": "code",
   "execution_count": 14,
   "id": "7152472a",
   "metadata": {},
   "outputs": [
    {
     "data": {
      "text/plain": [
       "1"
      ]
     },
     "execution_count": 14,
     "metadata": {},
     "output_type": "execute_result"
    }
   ],
   "source": [
    "input_dataset.rdd.getNumPartitions()"
   ]
  },
  {
   "cell_type": "code",
   "execution_count": 8,
   "id": "da5b43a0",
   "metadata": {},
   "outputs": [
    {
     "name": "stdout",
     "output_type": "stream",
     "text": [
      "+------------+-------------------+-------------------+----------------+--------------------+----------------------+-----------------------+--------------+--------------------+--------------------+---------------------+------+----------+----------+------+\n",
      "|tripduration|          starttime|           stoptime|start station id|  start station name|start station latitude|start station longitude|end station id|    end station name|end station latitude|end station longitude|bikeid|  usertype|birth year|gender|\n",
      "+------------+-------------------+-------------------+----------------+--------------------+----------------------+-----------------------+--------------+--------------------+--------------------+---------------------+------+----------+----------+------+\n",
      "|         364|2017-07-01 00:00:00|2017-07-01 00:06:05|             539|Metropolitan Ave ...|           40.71534825|           -73.96024116|          3107|Bedford Ave & Nas...|         40.72311651|         -73.95212324| 14744|Subscriber|      1986|     1|\n",
      "|        2142|2017-07-01 00:00:03|2017-07-01 00:35:46|             293|Lafayette St & E ...|     40.73020660529954|     -73.99102628231049|          3425|   2 Ave  & E 104 St|          40.7892105|         -73.94370784| 19587|Subscriber|      1981|     1|\n",
      "|         328|2017-07-01 00:00:08|2017-07-01 00:05:37|            3242|Schermerhorn St &...|     40.69102925677968|     -73.99183362722397|          3397|Court St & Nelson St|          40.6763947|         -73.99869893| 27937|Subscriber|      1984|     2|\n",
      "|        2530|2017-07-01 00:00:11|2017-07-01 00:42:22|            2002|Wythe Ave & Metro...|             40.716887|             -73.963198|           398|Atlantic Ave & Fu...|         40.69165183|          -73.9999786| 26066|Subscriber|      1985|     1|\n",
      "|        2534|2017-07-01 00:00:15|2017-07-01 00:42:29|            2002|Wythe Ave & Metro...|             40.716887|             -73.963198|           398|Atlantic Ave & Fu...|         40.69165183|          -73.9999786| 29408|Subscriber|      1982|     2|\n",
      "|         545|2017-07-01 00:00:18|2017-07-01 00:09:24|             361|Allen St & Hester St|           40.71605866|           -73.99190759|           502| Henry St & Grand St|           40.714215|           -73.981346| 21203|Subscriber|      1954|     2|\n",
      "|        1496|2017-07-01 00:00:18|2017-07-01 00:25:15|            3233|     E 48 St & 5 Ave|     40.75724567911726|     -73.97805914282799|           546|E 30 St & Park Ave S|         40.74444921|         -73.98303529| 15933|  Customer|      1971|     1|\n",
      "|        1495|2017-07-01 00:00:19|2017-07-01 00:25:15|            3233|     E 48 St & 5 Ave|     40.75724567911726|     -73.97805914282799|           546|E 30 St & Park Ave S|         40.74444921|         -73.98303529| 18515|  Customer|      1964|     2|\n",
      "|         593|2017-07-01 00:00:27|2017-07-01 00:10:20|            3314|  W 95 St & Broadway|            40.7937704|             -73.971888|          3363| E 102 St & Park Ave|          40.7904828|         -73.95033068| 29135|Subscriber|      1982|     1|\n",
      "|        1950|2017-07-01 00:00:30|2017-07-01 00:33:00|            3085|Roebling St & N 4 St|              40.71469|              -73.95739|           468|  Broadway & W 56 St|          40.7652654|         -73.98192338| 17365|Subscriber|      1983|     1|\n",
      "+------------+-------------------+-------------------+----------------+--------------------+----------------------+-----------------------+--------------+--------------------+--------------------+---------------------+------+----------+----------+------+\n",
      "only showing top 10 rows\n",
      "\n"
     ]
    }
   ],
   "source": [
    "input_dataset.show(10)"
   ]
  },
  {
   "cell_type": "code",
   "execution_count": 3,
   "id": "7a80e5eb-e8bb-43fd-95a3-b1871d6a8438",
   "metadata": {},
   "outputs": [
    {
     "data": {
      "text/plain": [
       "DataFrame[start station longitude: string, start station latitude: string, end station longitude: string, end station latitude: string]"
      ]
     },
     "execution_count": 3,
     "metadata": {},
     "output_type": "execute_result"
    }
   ],
   "source": [
    "double_cols = ['start station longitude', 'start station latitude', 'end station longitude', 'end station latitude']\n",
    "input_dataset.select(double_cols)"
   ]
  },
  {
   "cell_type": "code",
   "execution_count": 41,
   "id": "1becc7ba-70fc-40cf-841c-42d7075a152f",
   "metadata": {},
   "outputs": [],
   "source": [
    "# Converte columns\n",
    "from pyspark.sql.types import StructField, DoubleType\n",
    "\n",
    "double_cols = ['start station longitude', 'start station latitude', 'end station longitude', 'end station latitude']\n",
    "for col in double_cols:\n",
    "    input_dataset = input_dataset.withColumn(col, input_dataset[col].cast(DoubleType()))"
   ]
  },
  {
   "cell_type": "code",
   "execution_count": null,
   "id": "5f3a5e0f",
   "metadata": {},
   "outputs": [],
   "source": []
  },
  {
   "cell_type": "code",
   "execution_count": null,
   "id": "c820382d-0d87-4d73-8c12-8d42963d5f6f",
   "metadata": {},
   "outputs": [],
   "source": []
  },
  {
   "cell_type": "code",
   "execution_count": null,
   "id": "30abd939-0ece-4da4-ab85-613bbcab0821",
   "metadata": {},
   "outputs": [],
   "source": []
  },
  {
   "cell_type": "code",
   "execution_count": null,
   "id": "c39efcaf-ee5d-4da8-9515-ba907776e121",
   "metadata": {},
   "outputs": [],
   "source": []
  }
 ],
 "metadata": {
  "kernelspec": {
   "display_name": "Python 3 (ipykernel)",
   "language": "python",
   "name": "python3"
  },
  "language_info": {
   "codemirror_mode": {
    "name": "ipython",
    "version": 3
   },
   "file_extension": ".py",
   "mimetype": "text/x-python",
   "name": "python",
   "nbconvert_exporter": "python",
   "pygments_lexer": "ipython3",
   "version": "3.9.4"
  }
 },
 "nbformat": 4,
 "nbformat_minor": 5
}
